{
  "metadata": {
    "colab": {
      "provenance": [],
      "collapsed_sections": [
        "74b56bde-1ba0-4525-a11d-cab02c5659e4",
        "8b55862c",
        "b1feadda-8171-4aed-9a60-320a88dc9ee1",
        "bb4d2379",
        "2bf26669",
        "4b45fb81-46b1-426e-aa2c-01aed4eac700",
        "69060724-e390-4dda-8250-5f86025c874a"
      ]
    },
    "kernelspec": {
      "name": "py-dku-venv-cdl-p-diku-psbts-py39-llm-env",
      "display_name": "Python (env cdl-p-diku-psbts-py39-llm-env)",
      "language": "python"
    },
    "language_info": {
      "name": "python",
      "version": "3.9.20",
      "mimetype": "text/x-python",
      "codemirror_mode": {
        "name": "ipython",
        "version": 3
      },
      "pygments_lexer": "ipython3",
      "nbconvert_exporter": "python",
      "file_extension": ".py"
    },
    "widgets": {
      "application/vnd.jupyter.widget-state+json": {
        "00b164fb36864e53a8a73710d7d855cc": {
          "model_module": "@jupyter-widgets/base",
          "model_module_version": "1.2.0",
          "model_name": "LayoutModel",
          "state": {
            "_model_module": "@jupyter-widgets/base",
            "_model_module_version": "1.2.0",
            "_model_name": "LayoutModel",
            "_view_module": "@jupyter-widgets/base",
            "_view_module_version": "1.2.0",
            "_view_name": "LayoutView"
          }
        },
        "01ef4b60c3144e17afffb86281466bab": {
          "model_module": "@jupyter-widgets/base",
          "model_module_version": "1.2.0",
          "model_name": "LayoutModel",
          "state": {
            "_model_module": "@jupyter-widgets/base",
            "_model_module_version": "1.2.0",
            "_model_name": "LayoutModel",
            "_view_module": "@jupyter-widgets/base",
            "_view_module_version": "1.2.0",
            "_view_name": "LayoutView"
          }
        },
        "052ec73371404595b7dec973dda308d4": {
          "model_module": "@jupyter-widgets/controls",
          "model_module_version": "1.5.0",
          "model_name": "DescriptionStyleModel",
          "state": {
            "_model_module": "@jupyter-widgets/controls",
            "_model_module_version": "1.5.0",
            "_model_name": "DescriptionStyleModel",
            "_view_module": "@jupyter-widgets/base",
            "_view_module_version": "1.2.0",
            "_view_name": "StyleView",
            "description_width": ""
          }
        },
        "0e7ed203dde24ec9a8d0f9c95a8877fd": {
          "model_module": "@jupyter-widgets/base",
          "model_module_version": "1.2.0",
          "model_name": "LayoutModel",
          "state": {
            "_model_module": "@jupyter-widgets/base",
            "_model_module_version": "1.2.0",
            "_model_name": "LayoutModel",
            "_view_module": "@jupyter-widgets/base",
            "_view_module_version": "1.2.0",
            "_view_name": "LayoutView"
          }
        },
        "15b9261bb07f4bbb95d276b92feabade": {
          "model_module": "@jupyter-widgets/controls",
          "model_module_version": "1.5.0",
          "model_name": "HTMLModel",
          "state": {
            "_dom_classes": [],
            "_model_module": "@jupyter-widgets/controls",
            "_model_module_version": "1.5.0",
            "_model_name": "HTMLModel",
            "_view_module": "@jupyter-widgets/controls",
            "_view_module_version": "1.5.0",
            "_view_name": "HTMLView",
            "description": "",
            "layout": "IPY_MODEL_0e7ed203dde24ec9a8d0f9c95a8877fd",
            "placeholder": "​",
            "style": "IPY_MODEL_e64cfd87330d4b238596da66db63d984",
            "value": "Downloading (…)lve/main/config.json: 100%"
          }
        },
        "2045ffddb5c4407f9235d1bf472e9ba5": {
          "model_module": "@jupyter-widgets/controls",
          "model_module_version": "1.5.0",
          "model_name": "HTMLModel",
          "state": {
            "_dom_classes": [],
            "_model_module": "@jupyter-widgets/controls",
            "_model_module_version": "1.5.0",
            "_model_name": "HTMLModel",
            "_view_module": "@jupyter-widgets/controls",
            "_view_module_version": "1.5.0",
            "_view_name": "HTMLView",
            "description": "",
            "layout": "IPY_MODEL_9eab400a02dc46269e2537db44a78625",
            "placeholder": "​",
            "style": "IPY_MODEL_415ddcb74bc2467fa9399039b7d0cafb",
            "value": "Downloading model.safetensors: 100%"
          }
        },
        "21318da3ae0644c28ec63983a34bd2ee": {
          "model_module": "@jupyter-widgets/controls",
          "model_module_version": "1.5.0",
          "model_name": "HTMLModel",
          "state": {
            "_dom_classes": [],
            "_model_module": "@jupyter-widgets/controls",
            "_model_module_version": "1.5.0",
            "_model_name": "HTMLModel",
            "_view_module": "@jupyter-widgets/controls",
            "_view_module_version": "1.5.0",
            "_view_name": "HTMLView",
            "description": "",
            "layout": "IPY_MODEL_7ad056a7d71847d498f270ecac5cbf62",
            "placeholder": "​",
            "style": "IPY_MODEL_309bad22d08c47af8d51942da599328e",
            "value": " 46.8M/46.8M [00:00\u0026lt;00:00, 103MB/s]"
          }
        },
        "27e36e7f92d7417bb221fa95406cfb2f": {
          "model_module": "@jupyter-widgets/controls",
          "model_module_version": "1.5.0",
          "model_name": "FloatProgressModel",
          "state": {
            "_dom_classes": [],
            "_model_module": "@jupyter-widgets/controls",
            "_model_module_version": "1.5.0",
            "_model_name": "FloatProgressModel",
            "_view_module": "@jupyter-widgets/controls",
            "_view_module_version": "1.5.0",
            "_view_name": "ProgressView",
            "bar_style": "success",
            "description": "",
            "layout": "IPY_MODEL_7185b40a7fa74088ad7ff6efb524e6b5",
            "max": 46807446,
            "min": 0,
            "orientation": "horizontal",
            "style": "IPY_MODEL_cc6672c78dac468d9264efd90902c87d",
            "value": 46807446
          }
        },
        "2bcca7acc6f047d6ad4efbf1e5333c58": {
          "model_module": "@jupyter-widgets/base",
          "model_module_version": "1.2.0",
          "model_name": "LayoutModel",
          "state": {
            "_model_module": "@jupyter-widgets/base",
            "_model_module_version": "1.2.0",
            "_model_name": "LayoutModel",
            "_view_module": "@jupyter-widgets/base",
            "_view_module_version": "1.2.0",
            "_view_name": "LayoutView"
          }
        },
        "2df0c4cc59044ec8a59aadf2d5d2a9c9": {
          "model_module": "@jupyter-widgets/controls",
          "model_module_version": "1.5.0",
          "model_name": "FloatProgressModel",
          "state": {
            "_dom_classes": [],
            "_model_module": "@jupyter-widgets/controls",
            "_model_module_version": "1.5.0",
            "_model_name": "FloatProgressModel",
            "_view_module": "@jupyter-widgets/controls",
            "_view_module_version": "1.5.0",
            "_view_name": "ProgressView",
            "bar_style": "success",
            "description": "",
            "layout": "IPY_MODEL_b2fc825e7e6949e0a18f491ff261ac2b",
            "max": 115434268,
            "min": 0,
            "orientation": "horizontal",
            "style": "IPY_MODEL_df6e6c84cc1c4c7b8cf5f8555eb42166",
            "value": 115434268
          }
        },
        "2ee43f14fa654a66ad0cfb559826f266": {
          "model_module": "@jupyter-widgets/controls",
          "model_module_version": "1.5.0",
          "model_name": "FloatProgressModel",
          "state": {
            "_dom_classes": [],
            "_model_module": "@jupyter-widgets/controls",
            "_model_module_version": "1.5.0",
            "_model_name": "FloatProgressModel",
            "_view_module": "@jupyter-widgets/controls",
            "_view_module_version": "1.5.0",
            "_view_name": "ProgressView",
            "bar_style": "success",
            "description": "",
            "layout": "IPY_MODEL_00b164fb36864e53a8a73710d7d855cc",
            "max": 216625723,
            "min": 0,
            "orientation": "horizontal",
            "style": "IPY_MODEL_64a0c4aa0bba4b6f8e8f5775a4341147",
            "value": 216625723
          }
        },
        "3095817ccc8f4ec6bae9b0c201d8e40a": {
          "model_module": "@jupyter-widgets/controls",
          "model_module_version": "1.5.0",
          "model_name": "HTMLModel",
          "state": {
            "_dom_classes": [],
            "_model_module": "@jupyter-widgets/controls",
            "_model_module_version": "1.5.0",
            "_model_name": "HTMLModel",
            "_view_module": "@jupyter-widgets/controls",
            "_view_module_version": "1.5.0",
            "_view_name": "HTMLView",
            "description": "",
            "layout": "IPY_MODEL_547eb1582628438c9f0ef01554dfcdb4",
            "placeholder": "​",
            "style": "IPY_MODEL_40b532d4d85740a2a16251bb321f489a",
            "value": " 115M/115M [00:02\u0026lt;00:00, 36.9MB/s]"
          }
        },
        "309bad22d08c47af8d51942da599328e": {
          "model_module": "@jupyter-widgets/controls",
          "model_module_version": "1.5.0",
          "model_name": "DescriptionStyleModel",
          "state": {
            "_model_module": "@jupyter-widgets/controls",
            "_model_module_version": "1.5.0",
            "_model_name": "DescriptionStyleModel",
            "_view_module": "@jupyter-widgets/base",
            "_view_module_version": "1.2.0",
            "_view_name": "StyleView",
            "description_width": ""
          }
        },
        "3494ef9884224fa9a0a65999d7fc2945": {
          "model_module": "@jupyter-widgets/controls",
          "model_module_version": "1.5.0",
          "model_name": "DescriptionStyleModel",
          "state": {
            "_model_module": "@jupyter-widgets/controls",
            "_model_module_version": "1.5.0",
            "_model_name": "DescriptionStyleModel",
            "_view_module": "@jupyter-widgets/base",
            "_view_module_version": "1.2.0",
            "_view_name": "StyleView",
            "description_width": ""
          }
        },
        "3bd05fe4e6bd4ea2b7bfcfba705369c5": {
          "model_module": "@jupyter-widgets/controls",
          "model_module_version": "1.5.0",
          "model_name": "HTMLModel",
          "state": {
            "_dom_classes": [],
            "_model_module": "@jupyter-widgets/controls",
            "_model_module_version": "1.5.0",
            "_model_name": "HTMLModel",
            "_view_module": "@jupyter-widgets/controls",
            "_view_module_version": "1.5.0",
            "_view_name": "HTMLView",
            "description": "",
            "layout": "IPY_MODEL_01ef4b60c3144e17afffb86281466bab",
            "placeholder": "​",
            "style": "IPY_MODEL_3494ef9884224fa9a0a65999d7fc2945",
            "value": "Downloading model.safetensors: 100%"
          }
        },
        "40b532d4d85740a2a16251bb321f489a": {
          "model_module": "@jupyter-widgets/controls",
          "model_module_version": "1.5.0",
          "model_name": "DescriptionStyleModel",
          "state": {
            "_model_module": "@jupyter-widgets/controls",
            "_model_module_version": "1.5.0",
            "_model_name": "DescriptionStyleModel",
            "_view_module": "@jupyter-widgets/base",
            "_view_module_version": "1.2.0",
            "_view_name": "StyleView",
            "description_width": ""
          }
        },
        "415ddcb74bc2467fa9399039b7d0cafb": {
          "model_module": "@jupyter-widgets/controls",
          "model_module_version": "1.5.0",
          "model_name": "DescriptionStyleModel",
          "state": {
            "_model_module": "@jupyter-widgets/controls",
            "_model_module_version": "1.5.0",
            "_model_name": "DescriptionStyleModel",
            "_view_module": "@jupyter-widgets/base",
            "_view_module_version": "1.2.0",
            "_view_name": "StyleView",
            "description_width": ""
          }
        },
        "5246faf4e8194647a4b41d9de5a168f6": {
          "model_module": "@jupyter-widgets/controls",
          "model_module_version": "1.5.0",
          "model_name": "HBoxModel",
          "state": {
            "_dom_classes": [],
            "_model_module": "@jupyter-widgets/controls",
            "_model_module_version": "1.5.0",
            "_model_name": "HBoxModel",
            "_view_module": "@jupyter-widgets/controls",
            "_view_module_version": "1.5.0",
            "_view_name": "HBoxView",
            "box_style": "",
            "children": [
              "IPY_MODEL_c8f31460d7d5420db2c7840e287fac5b",
              "IPY_MODEL_2ee43f14fa654a66ad0cfb559826f266",
              "IPY_MODEL_e7e6388db19d47ceb06afc75fbb8486c"
            ],
            "layout": "IPY_MODEL_922be25533bd448e9ce92614f7bd2677"
          }
        },
        "547eb1582628438c9f0ef01554dfcdb4": {
          "model_module": "@jupyter-widgets/base",
          "model_module_version": "1.2.0",
          "model_name": "LayoutModel",
          "state": {
            "_model_module": "@jupyter-widgets/base",
            "_model_module_version": "1.2.0",
            "_model_name": "LayoutModel",
            "_view_module": "@jupyter-widgets/base",
            "_view_module_version": "1.2.0",
            "_view_name": "LayoutView"
          }
        },
        "5ffb0b594f51466284af380fd4d47b40": {
          "model_module": "@jupyter-widgets/controls",
          "model_module_version": "1.5.0",
          "model_name": "FloatProgressModel",
          "state": {
            "_dom_classes": [],
            "_model_module": "@jupyter-widgets/controls",
            "_model_module_version": "1.5.0",
            "_model_name": "FloatProgressModel",
            "_view_module": "@jupyter-widgets/controls",
            "_view_module_version": "1.5.0",
            "_view_name": "ProgressView",
            "bar_style": "success",
            "description": "",
            "layout": "IPY_MODEL_c13aff2b064743be941b4672550e56c9",
            "max": 1469,
            "min": 0,
            "orientation": "horizontal",
            "style": "IPY_MODEL_ef5fba5f330748faa9bd583d637087a6",
            "value": 1469
          }
        },
        "64a0c4aa0bba4b6f8e8f5775a4341147": {
          "model_module": "@jupyter-widgets/controls",
          "model_module_version": "1.5.0",
          "model_name": "ProgressStyleModel",
          "state": {
            "_model_module": "@jupyter-widgets/controls",
            "_model_module_version": "1.5.0",
            "_model_name": "ProgressStyleModel",
            "_view_module": "@jupyter-widgets/base",
            "_view_module_version": "1.2.0",
            "_view_name": "StyleView",
            "description_width": ""
          }
        },
        "7185b40a7fa74088ad7ff6efb524e6b5": {
          "model_module": "@jupyter-widgets/base",
          "model_module_version": "1.2.0",
          "model_name": "LayoutModel",
          "state": {
            "_model_module": "@jupyter-widgets/base",
            "_model_module_version": "1.2.0",
            "_model_name": "LayoutModel",
            "_view_module": "@jupyter-widgets/base",
            "_view_module_version": "1.2.0",
            "_view_name": "LayoutView"
          }
        },
        "7ad056a7d71847d498f270ecac5cbf62": {
          "model_module": "@jupyter-widgets/base",
          "model_module_version": "1.2.0",
          "model_name": "LayoutModel",
          "state": {
            "_model_module": "@jupyter-widgets/base",
            "_model_module_version": "1.2.0",
            "_model_name": "LayoutModel",
            "_view_module": "@jupyter-widgets/base",
            "_view_module_version": "1.2.0",
            "_view_name": "LayoutView"
          }
        },
        "7d37b6f0ba8b4c5eb875635b98778d26": {
          "model_module": "@jupyter-widgets/controls",
          "model_module_version": "1.5.0",
          "model_name": "DescriptionStyleModel",
          "state": {
            "_model_module": "@jupyter-widgets/controls",
            "_model_module_version": "1.5.0",
            "_model_name": "DescriptionStyleModel",
            "_view_module": "@jupyter-widgets/base",
            "_view_module_version": "1.2.0",
            "_view_name": "StyleView",
            "description_width": ""
          }
        },
        "922be25533bd448e9ce92614f7bd2677": {
          "model_module": "@jupyter-widgets/base",
          "model_module_version": "1.2.0",
          "model_name": "LayoutModel",
          "state": {
            "_model_module": "@jupyter-widgets/base",
            "_model_module_version": "1.2.0",
            "_model_name": "LayoutModel",
            "_view_module": "@jupyter-widgets/base",
            "_view_module_version": "1.2.0",
            "_view_name": "LayoutView"
          }
        },
        "93205e664daa4921959605eb99dfa9cc": {
          "model_module": "@jupyter-widgets/base",
          "model_module_version": "1.2.0",
          "model_name": "LayoutModel",
          "state": {
            "_model_module": "@jupyter-widgets/base",
            "_model_module_version": "1.2.0",
            "_model_name": "LayoutModel",
            "_view_module": "@jupyter-widgets/base",
            "_view_module_version": "1.2.0",
            "_view_name": "LayoutView"
          }
        },
        "9eab400a02dc46269e2537db44a78625": {
          "model_module": "@jupyter-widgets/base",
          "model_module_version": "1.2.0",
          "model_name": "LayoutModel",
          "state": {
            "_model_module": "@jupyter-widgets/base",
            "_model_module_version": "1.2.0",
            "_model_name": "LayoutModel",
            "_view_module": "@jupyter-widgets/base",
            "_view_module_version": "1.2.0",
            "_view_name": "LayoutView"
          }
        },
        "a9a67e81e91e46e19b23f58dea634525": {
          "model_module": "@jupyter-widgets/controls",
          "model_module_version": "1.5.0",
          "model_name": "HBoxModel",
          "state": {
            "_dom_classes": [],
            "_model_module": "@jupyter-widgets/controls",
            "_model_module_version": "1.5.0",
            "_model_name": "HBoxModel",
            "_view_module": "@jupyter-widgets/controls",
            "_view_module_version": "1.5.0",
            "_view_name": "HBoxView",
            "box_style": "",
            "children": [
              "IPY_MODEL_2045ffddb5c4407f9235d1bf472e9ba5",
              "IPY_MODEL_2df0c4cc59044ec8a59aadf2d5d2a9c9",
              "IPY_MODEL_3095817ccc8f4ec6bae9b0c201d8e40a"
            ],
            "layout": "IPY_MODEL_93205e664daa4921959605eb99dfa9cc"
          }
        },
        "b12ba9f2111c44eeb5ae65820cc7d5d7": {
          "model_module": "@jupyter-widgets/controls",
          "model_module_version": "1.5.0",
          "model_name": "HBoxModel",
          "state": {
            "_dom_classes": [],
            "_model_module": "@jupyter-widgets/controls",
            "_model_module_version": "1.5.0",
            "_model_name": "HBoxModel",
            "_view_module": "@jupyter-widgets/controls",
            "_view_module_version": "1.5.0",
            "_view_name": "HBoxView",
            "box_style": "",
            "children": [
              "IPY_MODEL_15b9261bb07f4bbb95d276b92feabade",
              "IPY_MODEL_5ffb0b594f51466284af380fd4d47b40",
              "IPY_MODEL_fc994e0c5ced45c78c0b9bb6f19c073f"
            ],
            "layout": "IPY_MODEL_c58471c60519419e9cdb3c7ff174d702"
          }
        },
        "b2fc825e7e6949e0a18f491ff261ac2b": {
          "model_module": "@jupyter-widgets/base",
          "model_module_version": "1.2.0",
          "model_name": "LayoutModel",
          "state": {
            "_model_module": "@jupyter-widgets/base",
            "_model_module_version": "1.2.0",
            "_model_name": "LayoutModel",
            "_view_module": "@jupyter-widgets/base",
            "_view_module_version": "1.2.0",
            "_view_name": "LayoutView"
          }
        },
        "c13aff2b064743be941b4672550e56c9": {
          "model_module": "@jupyter-widgets/base",
          "model_module_version": "1.2.0",
          "model_name": "LayoutModel",
          "state": {
            "_model_module": "@jupyter-widgets/base",
            "_model_module_version": "1.2.0",
            "_model_name": "LayoutModel",
            "_view_module": "@jupyter-widgets/base",
            "_view_module_version": "1.2.0",
            "_view_name": "LayoutView"
          }
        },
        "c428c0bd915d455986b3193e9636ea80": {
          "model_module": "@jupyter-widgets/base",
          "model_module_version": "1.2.0",
          "model_name": "LayoutModel",
          "state": {
            "_model_module": "@jupyter-widgets/base",
            "_model_module_version": "1.2.0",
            "_model_name": "LayoutModel",
            "_view_module": "@jupyter-widgets/base",
            "_view_module_version": "1.2.0",
            "_view_name": "LayoutView"
          }
        },
        "c58471c60519419e9cdb3c7ff174d702": {
          "model_module": "@jupyter-widgets/base",
          "model_module_version": "1.2.0",
          "model_name": "LayoutModel",
          "state": {
            "_model_module": "@jupyter-widgets/base",
            "_model_module_version": "1.2.0",
            "_model_name": "LayoutModel",
            "_view_module": "@jupyter-widgets/base",
            "_view_module_version": "1.2.0",
            "_view_name": "LayoutView"
          }
        },
        "c8f31460d7d5420db2c7840e287fac5b": {
          "model_module": "@jupyter-widgets/controls",
          "model_module_version": "1.5.0",
          "model_name": "HTMLModel",
          "state": {
            "_dom_classes": [],
            "_model_module": "@jupyter-widgets/controls",
            "_model_module_version": "1.5.0",
            "_model_name": "HTMLModel",
            "_view_module": "@jupyter-widgets/controls",
            "_view_module_version": "1.5.0",
            "_view_name": "HTMLView",
            "description": "",
            "layout": "IPY_MODEL_f63ee7f4234c45d48829e011f24eafde",
            "placeholder": "​",
            "style": "IPY_MODEL_f8bcfb1381aa46d89034ea50e30b43cf",
            "value": "Downloading yolox_l0.05.onnx: 100%"
          }
        },
        "cc6672c78dac468d9264efd90902c87d": {
          "model_module": "@jupyter-widgets/controls",
          "model_module_version": "1.5.0",
          "model_name": "ProgressStyleModel",
          "state": {
            "_model_module": "@jupyter-widgets/controls",
            "_model_module_version": "1.5.0",
            "_model_name": "ProgressStyleModel",
            "_view_module": "@jupyter-widgets/base",
            "_view_module_version": "1.2.0",
            "_view_name": "StyleView",
            "description_width": ""
          }
        },
        "daabde9b4b764797af6b96370e40c1d2": {
          "model_module": "@jupyter-widgets/base",
          "model_module_version": "1.2.0",
          "model_name": "LayoutModel",
          "state": {
            "_model_module": "@jupyter-widgets/base",
            "_model_module_version": "1.2.0",
            "_model_name": "LayoutModel",
            "_view_module": "@jupyter-widgets/base",
            "_view_module_version": "1.2.0",
            "_view_name": "LayoutView"
          }
        },
        "df6e6c84cc1c4c7b8cf5f8555eb42166": {
          "model_module": "@jupyter-widgets/controls",
          "model_module_version": "1.5.0",
          "model_name": "ProgressStyleModel",
          "state": {
            "_model_module": "@jupyter-widgets/controls",
            "_model_module_version": "1.5.0",
            "_model_name": "ProgressStyleModel",
            "_view_module": "@jupyter-widgets/base",
            "_view_module_version": "1.2.0",
            "_view_name": "StyleView",
            "description_width": ""
          }
        },
        "e64cfd87330d4b238596da66db63d984": {
          "model_module": "@jupyter-widgets/controls",
          "model_module_version": "1.5.0",
          "model_name": "DescriptionStyleModel",
          "state": {
            "_model_module": "@jupyter-widgets/controls",
            "_model_module_version": "1.5.0",
            "_model_name": "DescriptionStyleModel",
            "_view_module": "@jupyter-widgets/base",
            "_view_module_version": "1.2.0",
            "_view_name": "StyleView",
            "description_width": ""
          }
        },
        "e7e6388db19d47ceb06afc75fbb8486c": {
          "model_module": "@jupyter-widgets/controls",
          "model_module_version": "1.5.0",
          "model_name": "HTMLModel",
          "state": {
            "_dom_classes": [],
            "_model_module": "@jupyter-widgets/controls",
            "_model_module_version": "1.5.0",
            "_model_name": "HTMLModel",
            "_view_module": "@jupyter-widgets/controls",
            "_view_module_version": "1.5.0",
            "_view_name": "HTMLView",
            "description": "",
            "layout": "IPY_MODEL_2bcca7acc6f047d6ad4efbf1e5333c58",
            "placeholder": "​",
            "style": "IPY_MODEL_052ec73371404595b7dec973dda308d4",
            "value": " 217M/217M [00:07\u0026lt;00:00, 37.2MB/s]"
          }
        },
        "ef5fba5f330748faa9bd583d637087a6": {
          "model_module": "@jupyter-widgets/controls",
          "model_module_version": "1.5.0",
          "model_name": "ProgressStyleModel",
          "state": {
            "_model_module": "@jupyter-widgets/controls",
            "_model_module_version": "1.5.0",
            "_model_name": "ProgressStyleModel",
            "_view_module": "@jupyter-widgets/base",
            "_view_module_version": "1.2.0",
            "_view_name": "StyleView",
            "description_width": ""
          }
        },
        "ef897646c62444929b91935d3917b14d": {
          "model_module": "@jupyter-widgets/controls",
          "model_module_version": "1.5.0",
          "model_name": "HBoxModel",
          "state": {
            "_dom_classes": [],
            "_model_module": "@jupyter-widgets/controls",
            "_model_module_version": "1.5.0",
            "_model_name": "HBoxModel",
            "_view_module": "@jupyter-widgets/controls",
            "_view_module_version": "1.5.0",
            "_view_name": "HBoxView",
            "box_style": "",
            "children": [
              "IPY_MODEL_3bd05fe4e6bd4ea2b7bfcfba705369c5",
              "IPY_MODEL_27e36e7f92d7417bb221fa95406cfb2f",
              "IPY_MODEL_21318da3ae0644c28ec63983a34bd2ee"
            ],
            "layout": "IPY_MODEL_c428c0bd915d455986b3193e9636ea80"
          }
        },
        "f63ee7f4234c45d48829e011f24eafde": {
          "model_module": "@jupyter-widgets/base",
          "model_module_version": "1.2.0",
          "model_name": "LayoutModel",
          "state": {
            "_model_module": "@jupyter-widgets/base",
            "_model_module_version": "1.2.0",
            "_model_name": "LayoutModel",
            "_view_module": "@jupyter-widgets/base",
            "_view_module_version": "1.2.0",
            "_view_name": "LayoutView"
          }
        },
        "f8bcfb1381aa46d89034ea50e30b43cf": {
          "model_module": "@jupyter-widgets/controls",
          "model_module_version": "1.5.0",
          "model_name": "DescriptionStyleModel",
          "state": {
            "_model_module": "@jupyter-widgets/controls",
            "_model_module_version": "1.5.0",
            "_model_name": "DescriptionStyleModel",
            "_view_module": "@jupyter-widgets/base",
            "_view_module_version": "1.2.0",
            "_view_name": "StyleView",
            "description_width": ""
          }
        },
        "fc994e0c5ced45c78c0b9bb6f19c073f": {
          "model_module": "@jupyter-widgets/controls",
          "model_module_version": "1.5.0",
          "model_name": "HTMLModel",
          "state": {
            "_dom_classes": [],
            "_model_module": "@jupyter-widgets/controls",
            "_model_module_version": "1.5.0",
            "_model_name": "HTMLModel",
            "_view_module": "@jupyter-widgets/controls",
            "_view_module_version": "1.5.0",
            "_view_name": "HTMLView",
            "description": "",
            "layout": "IPY_MODEL_daabde9b4b764797af6b96370e40c1d2",
            "placeholder": "​",
            "style": "IPY_MODEL_7d37b6f0ba8b4c5eb875635b98778d26",
            "value": " 1.47k/1.47k [00:00\u0026lt;00:00, 66.9kB/s]"
          }
        }
      }
    },
    "hide_input": false,
    "tags": [],
    "customFields": {},
    "createdOn": 1745225418173,
    "creator": "tomarsx1",
    "modifiedBy": "tomarsx1"
  },
  "nbformat": 4,
  "nbformat_minor": 5,
  "cells": [
    {
      "cell_type": "markdown",
      "metadata": {
        "id": "812a4dbc-fe04-4b84-bdf9-390045e30806"
      },
      "source": [
        "# Multi-modal RAG with LangChain"
      ]
    },
    {
      "cell_type": "markdown",
      "metadata": {
        "id": "ecXPgawqG7XH"
      },
      "source": [
        "## SetUp\n\nInstall the dependencies you need to run the notebook."
      ]
    },
    {
      "execution_count": 0,
      "cell_type": "code",
      "metadata": {
        "id": "133b74f6"
      },
      "source": [
        "# for linux\n# %sudo apt-get install poppler-utils tesseract-ocr libmagic-dev\n\n# for mac\n# %brew install poppler tesseract libmagic"
      ],
      "outputs": []
    },
    {
      "execution_count": 0,
      "cell_type": "code",
      "metadata": {
        "id": "2nDWBTrhn-_M",
        "outputId": "7f1e98ab-538a-4c49-85ef-8590f83c4770"
      },
      "source": [
        "%pip install -Uq \"unstructured[all-docs]\" pillow lxml pillow\n%pip install -Uq chromadb tiktoken\n%pip install -Uq langchain langchain-community langchain-openai langchain-groq\n%pip install -Uq python_dotenv\n"
      ],
      "outputs": []
    },
    {
      "execution_count": 0,
      "cell_type": "code",
      "metadata": {
        "id": "91106e31",
        "outputId": "fb35d92c-c338-4b78-bacb-5da648093f6e"
      },
      "source": [
        "import os\n\n# keys for the services we will use\n\nos.environ[\"OPENAI_API_KEY\"] \u003d \"sk-...\"\nos.environ[\"GROQ_API_KEY\"] \u003d \"sk-...\"\nos.environ[\"LANGCHAIN_API_KEY\"] \u003d \"sk-...\"\nos.environ[\"LANGCHAIN_TRACING_V2\"] \u003d \"true\"\n"
      ],
      "outputs": []
    },
    {
      "cell_type": "markdown",
      "metadata": {
        "id": "74b56bde-1ba0-4525-a11d-cab02c5659e4"
      },
      "source": [
        "## Extract the data\n\nExtract the elements of the PDF that we will be able to use in the retrieval process. These elements can be: Text, Images, Tables, etc."
      ]
    },
    {
      "cell_type": "markdown",
      "metadata": {
        "id": "e62ec070"
      },
      "source": [
        "### Partition PDF tables, text, and images"
      ]
    },
    {
      "execution_count": 0,
      "cell_type": "code",
      "metadata": {
        "colab": {
          "base_uri": "https://localhost:8080/",
          "height": 308,
          "referenced_widgets": [
            "5246faf4e8194647a4b41d9de5a168f6",
            "c8f31460d7d5420db2c7840e287fac5b",
            "2ee43f14fa654a66ad0cfb559826f266",
            "e7e6388db19d47ceb06afc75fbb8486c",
            "922be25533bd448e9ce92614f7bd2677",
            "f63ee7f4234c45d48829e011f24eafde",
            "f8bcfb1381aa46d89034ea50e30b43cf",
            "00b164fb36864e53a8a73710d7d855cc",
            "64a0c4aa0bba4b6f8e8f5775a4341147",
            "2bcca7acc6f047d6ad4efbf1e5333c58",
            "052ec73371404595b7dec973dda308d4",
            "b12ba9f2111c44eeb5ae65820cc7d5d7",
            "15b9261bb07f4bbb95d276b92feabade",
            "5ffb0b594f51466284af380fd4d47b40",
            "fc994e0c5ced45c78c0b9bb6f19c073f",
            "c58471c60519419e9cdb3c7ff174d702",
            "0e7ed203dde24ec9a8d0f9c95a8877fd",
            "e64cfd87330d4b238596da66db63d984",
            "c13aff2b064743be941b4672550e56c9",
            "ef5fba5f330748faa9bd583d637087a6",
            "daabde9b4b764797af6b96370e40c1d2",
            "7d37b6f0ba8b4c5eb875635b98778d26",
            "a9a67e81e91e46e19b23f58dea634525",
            "2045ffddb5c4407f9235d1bf472e9ba5",
            "2df0c4cc59044ec8a59aadf2d5d2a9c9",
            "3095817ccc8f4ec6bae9b0c201d8e40a",
            "93205e664daa4921959605eb99dfa9cc",
            "9eab400a02dc46269e2537db44a78625",
            "415ddcb74bc2467fa9399039b7d0cafb",
            "b2fc825e7e6949e0a18f491ff261ac2b",
            "df6e6c84cc1c4c7b8cf5f8555eb42166",
            "547eb1582628438c9f0ef01554dfcdb4",
            "40b532d4d85740a2a16251bb321f489a",
            "ef897646c62444929b91935d3917b14d",
            "3bd05fe4e6bd4ea2b7bfcfba705369c5",
            "27e36e7f92d7417bb221fa95406cfb2f",
            "21318da3ae0644c28ec63983a34bd2ee",
            "c428c0bd915d455986b3193e9636ea80",
            "01ef4b60c3144e17afffb86281466bab",
            "3494ef9884224fa9a0a65999d7fc2945",
            "7185b40a7fa74088ad7ff6efb524e6b5",
            "cc6672c78dac468d9264efd90902c87d",
            "7ad056a7d71847d498f270ecac5cbf62",
            "309bad22d08c47af8d51942da599328e"
          ]
        },
        "id": "0a046528-8d22-4f4e-a520-962026562939",
        "outputId": "85bfb6b1-557f-4d4d-be94-b0c7200150e2",
        "scrolled": true
      },
      "source": [
        "from unstructured.partition.pdf import partition_pdf\n\noutput_path \u003d \"./content/\"\nfile_path \u003d output_path + \u0027attention.pdf\u0027\n\n# Reference: https://docs.unstructured.io/open-source/core-functionality/chunking\nchunks \u003d partition_pdf(\n    filename\u003dfile_path,\n    infer_table_structure\u003dTrue,            # extract tables\n    strategy\u003d\"hi_res\",                     # mandatory to infer tables\n\n    extract_image_block_types\u003d[\"Image\"],   # Add \u0027Table\u0027 to list to extract image of tables\n    # image_output_dir_path\u003doutput_path,   # if None, images and tables will saved in base64\n\n    extract_image_block_to_payload\u003dTrue,   # if true, will extract base64 for API usage\n\n    chunking_strategy\u003d\"by_title\",          # or \u0027basic\u0027\n    max_characters\u003d10000,                  # defaults to 500\n    combine_text_under_n_chars\u003d2000,       # defaults to 0\n    new_after_n_chars\u003d6000,\n\n    # extract_images_in_pdf\u003dTrue,          # deprecated\n)"
      ],
      "outputs": []
    },
    {
      "execution_count": 0,
      "cell_type": "code",
      "metadata": {
        "id": "038f6733",
        "outputId": "9645206b-5b1d-45b5-ae1d-1883d78247f6"
      },
      "source": [
        "# We get 2 types of elements from the partition_pdf function\nset([str(type(el)) for el in chunks])"
      ],
      "outputs": []
    },
    {
      "execution_count": 0,
      "cell_type": "code",
      "metadata": {
        "id": "cccca0db",
        "outputId": "46f33bf2-d1d8-4bef-a0bf-d903ae2179d3"
      },
      "source": [
        "# Each CompositeElement containes a bunch of related elements.\n# This makes it easy to use these elements together in a RAG pipeline.\n\nchunks[3].metadata.orig_elements"
      ],
      "outputs": []
    },
    {
      "execution_count": 0,
      "cell_type": "code",
      "metadata": {
        "id": "b8766f03",
        "outputId": "8bd43211-e0a6-4d35-833e-ee7cb374c9b6"
      },
      "source": [
        "# This is what an extracted image looks like.\n# It contains the base64 representation only because we set the param extract_image_block_to_payload\u003dTrue\n\nelements \u003d chunks[3].metadata.orig_elements\nchunk_images \u003d [el for el in elements if \u0027Image\u0027 in str(type(el))]\nchunk_images[0].to_dict()"
      ],
      "outputs": []
    },
    {
      "cell_type": "markdown",
      "metadata": {
        "id": "26caebda"
      },
      "source": [
        "### Separate extracted elements into tables, text, and images"
      ]
    },
    {
      "execution_count": 0,
      "cell_type": "code",
      "metadata": {
        "id": "8326a750"
      },
      "source": [
        "# separate tables from texts\ntables \u003d []\ntexts \u003d []\n\nfor chunk in chunks:\n    if \"Table\" in str(type(chunk)):\n        tables.append(chunk)\n\n    if \"CompositeElement\" in str(type((chunk))):\n        texts.append(chunk)"
      ],
      "outputs": []
    },
    {
      "execution_count": 0,
      "cell_type": "code",
      "metadata": {
        "id": "df548e46"
      },
      "source": [
        "# Get the images from the CompositeElement objects\ndef get_images_base64(chunks):\n    images_b64 \u003d []\n    for chunk in chunks:\n        if \"CompositeElement\" in str(type(chunk)):\n            chunk_els \u003d chunk.metadata.orig_elements\n            for el in chunk_els:\n                if \"Image\" in str(type(el)):\n                    images_b64.append(el.metadata.image_base64)\n    return images_b64\n\nimages \u003d get_images_base64(chunks)"
      ],
      "outputs": []
    },
    {
      "cell_type": "markdown",
      "metadata": {
        "id": "9582f462"
      },
      "source": [
        "#### Check what the images look like"
      ]
    },
    {
      "execution_count": 0,
      "cell_type": "code",
      "metadata": {
        "id": "83158c36",
        "outputId": "50ba7432-e879-4a64-e9f4-b47fdbeb0fbf"
      },
      "source": [
        "import base64\nfrom IPython.display import Image, display\n\ndef display_base64_image(base64_code):\n    # Decode the base64 string to binary\n    image_data \u003d base64.b64decode(base64_code)\n    # Display the image\n    display(Image(data\u003dimage_data))\n\ndisplay_base64_image(images[0])"
      ],
      "outputs": []
    },
    {
      "cell_type": "markdown",
      "metadata": {
        "id": "0aa7f52f-bf5c-4ba4-af72-b2ccba59a4cf"
      },
      "source": [
        "## Summarize the data\n\nCreate a summary of each element extracted from the PDF. This summary will be vectorized and used in the retrieval process."
      ]
    },
    {
      "cell_type": "markdown",
      "metadata": {
        "id": "8b55862c"
      },
      "source": [
        "### Text and Table summaries\n\nWe don\u0027t need a multimodal model to generate the summaries of the tables and the text. I will use open source models available on Groq."
      ]
    },
    {
      "execution_count": 1,
      "cell_type": "code",
      "metadata": {
        "id": "08b3d2bc",
        "outputId": "5c39beb3-2a0c-44b8-c2b2-48a4e451282c"
      },
      "source": [
        "%pip install -Uq langchain-groq"
      ],
      "outputs": [
        {
          "output_type": "stream",
          "text": "\u001b[33mWARNING: Error parsing dependencies of notebook: Invalid version: \u00276.4.9-dku-13.4-0\u0027\u001b[0m\u001b[33m\n\u001b[0m\u001b[31mERROR: Could not install packages due to an OSError: [Errno 13] Permission denied: \u0027/data/dataiku/dss_data/code-envs/python/cdl-p-diku-psbts-py39-llm-env/lib64/python3.9/site-packages/zstandard-0.23.0.dist-info\u0027\nCheck the permissions.\n\u001b[0m\u001b[31m\n\u001b[0m\n\u001b[1m[\u001b[0m\u001b[34;49mnotice\u001b[0m\u001b[1;39;49m]\u001b[0m\u001b[39;49m A new release of pip is available: \u001b[0m\u001b[31;49m24.2\u001b[0m\u001b[39;49m -\u003e \u001b[0m\u001b[32;49m25.0.1\u001b[0m\n\u001b[1m[\u001b[0m\u001b[34;49mnotice\u001b[0m\u001b[1;39;49m]\u001b[0m\u001b[39;49m To update, run: \u001b[0m\u001b[32;49m/data/dataiku/dss_data/code-envs/python/cdl-p-diku-psbts-py39-llm-env/bin/python -m pip install --upgrade pip\u001b[0m\nNote: you may need to restart the kernel to use updated packages.\n",
          "name": "stdout"
        }
      ]
    },
    {
      "execution_count": 0,
      "cell_type": "code",
      "metadata": {
        "id": "523e6ed2-2132-4748-bdb7-db765f20648d"
      },
      "source": [
        "from langchain_groq import ChatGroq\nfrom langchain_core.prompts import ChatPromptTemplate\nfrom langchain_core.output_parsers import StrOutputParser"
      ],
      "outputs": []
    },
    {
      "execution_count": 0,
      "cell_type": "code",
      "metadata": {
        "id": "22c22e3f-42fb-4a4a-a87a-89f10ba8ab99"
      },
      "source": [
        "# Prompt\nprompt_text \u003d \"\"\"\nYou are an assistant tasked with summarizing tables and text.\nGive a concise summary of the table or text.\n\nRespond only with the summary, no additionnal comment.\nDo not start your message by saying \"Here is a summary\" or anything like that.\nJust give the summary as it is.\n\nTable or text chunk: {element}\n\n\"\"\"\nprompt \u003d ChatPromptTemplate.from_template(prompt_text)\n\n# Summary chain\nmodel \u003d ChatGroq(temperature\u003d0.5, model\u003d\"llama-3.1-8b-instant\")\nsummarize_chain \u003d {\"element\": lambda x: x} | prompt | model | StrOutputParser()"
      ],
      "outputs": []
    },
    {
      "execution_count": 0,
      "cell_type": "code",
      "metadata": {
        "id": "f176b374-aef0-48f4-a104-fb26b1dd6922"
      },
      "source": [
        "# Summarize text\ntext_summaries \u003d summarize_chain.batch(texts, {\"max_concurrency\": 3})\n\n# Summarize tables\ntables_html \u003d [table.metadata.text_as_html for table in tables]\ntable_summaries \u003d summarize_chain.batch(tables_html, {\"max_concurrency\": 3})"
      ],
      "outputs": []
    },
    {
      "execution_count": 0,
      "cell_type": "code",
      "metadata": {
        "id": "1d172ad2",
        "outputId": "1ba65afb-c9cd-4503-c154-db7841dfc1d4"
      },
      "source": [
        "text_summaries"
      ],
      "outputs": []
    },
    {
      "cell_type": "markdown",
      "metadata": {
        "id": "b1feadda-8171-4aed-9a60-320a88dc9ee1"
      },
      "source": [
        "### Image summaries\n\nWe will use gpt-4o-mini to produce the image summaries."
      ]
    },
    {
      "execution_count": 0,
      "cell_type": "code",
      "metadata": {
        "id": "32c825e1",
        "outputId": "3ef8d057-2214-41e8-80e1-c5f902a01ac8"
      },
      "source": [
        "%pip install -Uq langchain_openai"
      ],
      "outputs": []
    },
    {
      "execution_count": 0,
      "cell_type": "code",
      "metadata": {
        "id": "9e6b1d97-4245-45ac-95ba-9bc1cfd10182"
      },
      "source": [
        "from langchain_openai import ChatOpenAI\n\nprompt_template \u003d \"\"\"Describe the image in detail. For context,\n                  the image is part of a research paper explaining the transformers\n                  architecture. Be specific about graphs, such as bar plots.\"\"\"\nmessages \u003d [\n    (\n        \"user\",\n        [\n            {\"type\": \"text\", \"text\": prompt_template},\n            {\n                \"type\": \"image_url\",\n                \"image_url\": {\"url\": \"data:image/jpeg;base64,{image}\"},\n            },\n        ],\n    )\n]\n\nprompt \u003d ChatPromptTemplate.from_messages(messages)\n\nchain \u003d prompt | ChatOpenAI(model\u003d\"gpt-4o-mini\") | StrOutputParser()\n\n\nimage_summaries \u003d chain.batch(images)"
      ],
      "outputs": []
    },
    {
      "execution_count": 0,
      "cell_type": "code",
      "metadata": {
        "colab": {
          "base_uri": "https://localhost:8080/"
        },
        "id": "laF_8o1gzHT0",
        "outputId": "f82547af-0885-4d78-9f50-940dd9e6551e"
      },
      "source": [
        "image_summaries"
      ],
      "outputs": []
    },
    {
      "execution_count": 0,
      "cell_type": "code",
      "metadata": {
        "colab": {
          "base_uri": "https://localhost:8080/",
          "height": 143
        },
        "id": "aHNDEd_2txQI",
        "outputId": "fbd7c64e-f463-4203-e1ca-f79c7426aaf6"
      },
      "source": [
        "print(image_summaries[1])"
      ],
      "outputs": []
    },
    {
      "cell_type": "markdown",
      "metadata": {
        "id": "67b030d4-2ac5-41b6-9245-fc3ba5771d87"
      },
      "source": [
        "## Load data and summaries to vectorstore"
      ]
    },
    {
      "cell_type": "markdown",
      "metadata": {
        "id": "bb4d2379"
      },
      "source": [
        "### Create the vectorstore"
      ]
    },
    {
      "execution_count": 0,
      "cell_type": "code",
      "metadata": {
        "id": "9d8d7a34-69e0-49a2-b9f7-1a4e7b26d78f",
        "outputId": "c91d7a77-d820-446f-a751-15f5d4668e8f"
      },
      "source": [
        "import uuid\nfrom langchain.vectorstores import Chroma\nfrom langchain.storage import InMemoryStore\nfrom langchain.schema.document import Document\nfrom langchain.embeddings import OpenAIEmbeddings\nfrom langchain.retrievers.multi_vector import MultiVectorRetriever\n\n# The vectorstore to use to index the child chunks\nvectorstore \u003d Chroma(collection_name\u003d\"multi_modal_rag\", embedding_function\u003dOpenAIEmbeddings())\n\n# The storage layer for the parent documents\nstore \u003d InMemoryStore()\nid_key \u003d \"doc_id\"\n\n# The retriever (empty to start)\nretriever \u003d MultiVectorRetriever(\n    vectorstore\u003dvectorstore,\n    docstore\u003dstore,\n    id_key\u003did_key,\n)"
      ],
      "outputs": []
    },
    {
      "cell_type": "markdown",
      "metadata": {
        "id": "2bf26669"
      },
      "source": [
        "### Load the summaries and link the to the original data"
      ]
    },
    {
      "execution_count": 0,
      "cell_type": "code",
      "metadata": {
        "id": "1792e683"
      },
      "source": [
        "# Add texts\ndoc_ids \u003d [str(uuid.uuid4()) for _ in texts]\nsummary_texts \u003d [\n    Document(page_content\u003dsummary, metadata\u003d{id_key: doc_ids[i]}) for i, summary in enumerate(text_summaries)\n]\nretriever.vectorstore.add_documents(summary_texts)\nretriever.docstore.mset(list(zip(doc_ids, texts)))\n\n# Add tables\ntable_ids \u003d [str(uuid.uuid4()) for _ in tables]\nsummary_tables \u003d [\n    Document(page_content\u003dsummary, metadata\u003d{id_key: table_ids[i]}) for i, summary in enumerate(table_summaries)\n]\nretriever.vectorstore.add_documents(summary_tables)\nretriever.docstore.mset(list(zip(table_ids, tables)))\n\n# Add image summaries\nimg_ids \u003d [str(uuid.uuid4()) for _ in images]\nsummary_img \u003d [\n    Document(page_content\u003dsummary, metadata\u003d{id_key: img_ids[i]}) for i, summary in enumerate(image_summaries)\n]\nretriever.vectorstore.add_documents(summary_img)\nretriever.docstore.mset(list(zip(img_ids, images)))"
      ],
      "outputs": []
    },
    {
      "cell_type": "markdown",
      "metadata": {
        "id": "4b45fb81-46b1-426e-aa2c-01aed4eac700"
      },
      "source": [
        "### Check retrieval"
      ]
    },
    {
      "execution_count": 0,
      "cell_type": "code",
      "metadata": {
        "id": "1bea75fe-85af-4955-a80c-6e0b44a8e215"
      },
      "source": [
        "# Retrieve\ndocs \u003d retriever.invoke(\n    \"who are the authors of the paper?\"\n)"
      ],
      "outputs": []
    },
    {
      "execution_count": 0,
      "cell_type": "code",
      "metadata": {
        "id": "a0290c78",
        "outputId": "d19cdecf-c9e6-4b40-f996-06041a7f0ee4"
      },
      "source": [
        "for doc in docs:\n    print(str(doc) + \"\\n\\n\" + \"-\" * 80)"
      ],
      "outputs": []
    },
    {
      "cell_type": "markdown",
      "metadata": {
        "id": "69060724-e390-4dda-8250-5f86025c874a"
      },
      "source": [
        "## RAG pipeline"
      ]
    },
    {
      "execution_count": 0,
      "cell_type": "code",
      "metadata": {
        "id": "771a47fa-1267-4db8-a6ae-5fde48bbc069"
      },
      "source": [
        "from langchain_core.runnables import RunnablePassthrough, RunnableLambda\nfrom langchain_core.messages import SystemMessage, HumanMessage\nfrom langchain_openai import ChatOpenAI\nfrom base64 import b64decode\n\n\ndef parse_docs(docs):\n    \"\"\"Split base64-encoded images and texts\"\"\"\n    b64 \u003d []\n    text \u003d []\n    for doc in docs:\n        try:\n            b64decode(doc)\n            b64.append(doc)\n        except Exception as e:\n            text.append(doc)\n    return {\"images\": b64, \"texts\": text}\n\n\ndef build_prompt(kwargs):\n\n    docs_by_type \u003d kwargs[\"context\"]\n    user_question \u003d kwargs[\"question\"]\n\n    context_text \u003d \"\"\n    if len(docs_by_type[\"texts\"]) \u003e 0:\n        for text_element in docs_by_type[\"texts\"]:\n            context_text +\u003d text_element.text\n\n    # construct prompt with context (including images)\n    prompt_template \u003d f\"\"\"\n    Answer the question based only on the following context, which can include text, tables, and the below image.\n    Context: {context_text}\n    Question: {user_question}\n    \"\"\"\n\n    prompt_content \u003d [{\"type\": \"text\", \"text\": prompt_template}]\n\n    if len(docs_by_type[\"images\"]) \u003e 0:\n        for image in docs_by_type[\"images\"]:\n            prompt_content.append(\n                {\n                    \"type\": \"image_url\",\n                    \"image_url\": {\"url\": f\"data:image/jpeg;base64,{image}\"},\n                }\n            )\n\n    return ChatPromptTemplate.from_messages(\n        [\n            HumanMessage(content\u003dprompt_content),\n        ]\n    )\n\n\nchain \u003d (\n    {\n        \"context\": retriever | RunnableLambda(parse_docs),\n        \"question\": RunnablePassthrough(),\n    }\n    | RunnableLambda(build_prompt)\n    | ChatOpenAI(model\u003d\"gpt-4o-mini\")\n    | StrOutputParser()\n)\n\nchain_with_sources \u003d {\n    \"context\": retriever | RunnableLambda(parse_docs),\n    \"question\": RunnablePassthrough(),\n} | RunnablePassthrough().assign(\n    response\u003d(\n        RunnableLambda(build_prompt)\n        | ChatOpenAI(model\u003d\"gpt-4o-mini\")\n        | StrOutputParser()\n    )\n)"
      ],
      "outputs": []
    },
    {
      "execution_count": 0,
      "cell_type": "code",
      "metadata": {
        "colab": {
          "base_uri": "https://localhost:8080/",
          "height": 180
        },
        "id": "ea8414a8-65ee-4e11-8154-029b454f46af",
        "outputId": "2edf5f7e-9165-46ef-e710-cc945b78b230"
      },
      "source": [
        "response \u003d chain.invoke(\n    \"What is the attention mechanism?\"\n)\n\nprint(response)"
      ],
      "outputs": []
    },
    {
      "execution_count": 0,
      "cell_type": "code",
      "metadata": {
        "id": "e4adfeba",
        "outputId": "7c82360d-4c90-4cd1-9db4-7ba815277bbc"
      },
      "source": [
        "response \u003d chain_with_sources.invoke(\n    \"What is multihead?\"\n)\n\nprint(\"Response:\", response[\u0027response\u0027])\n\nprint(\"\\n\\nContext:\")\nfor text in response[\u0027context\u0027][\u0027texts\u0027]:\n    print(text.text)\n    print(\"Page number: \", text.metadata.page_number)\n    print(\"\\n\" + \"-\"*50 + \"\\n\")\nfor image in response[\u0027context\u0027][\u0027images\u0027]:\n    display_base64_image(image)"
      ],
      "outputs": []
    },
    {
      "cell_type": "markdown",
      "metadata": {
        "id": "90cd3714"
      },
      "source": [
        "## References\n\n- [LangChain Inspiration](https://github.com/langchain-ai/langchain/blob/master/cookbook/Semi_structured_and_multi_modal_RAG.ipynb?ref\u003dblog.langchain.dev)\n- [Multivector Storage](https://python.langchain.com/docs/how_to/multi_vector/)"
      ]
    }
  ]
}